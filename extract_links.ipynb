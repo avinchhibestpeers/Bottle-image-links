{
 "cells": [
  {
   "cell_type": "code",
   "execution_count": 83,
   "id": "23859591",
   "metadata": {},
   "outputs": [
    {
     "name": "stdout",
     "output_type": "stream",
     "text": [
      "<html itemscope=\"\" itemtype=\"http://schema.org/SearchResultsPage\" lang=\"en-IN\" data-darkreader-proxy\n"
     ]
    }
   ],
   "source": [
    "\n",
    "import re\n",
    "\n",
    "with open('html_file.html', 'r') as f:\n",
    "    data = f.read()\n",
    "print(data[:100])"
   ]
  },
  {
   "cell_type": "code",
   "execution_count": 84,
   "id": "6b8e0445",
   "metadata": {},
   "outputs": [],
   "source": [
    "\n",
    "from bs4 import BeautifulSoup\n",
    "\n",
    "soup = BeautifulSoup(data, 'html.parser')\n",
    "with open('html_file.html', 'w') as f:\n",
    "    f.write(str(soup.prettify()))"
   ]
  },
  {
   "cell_type": "code",
   "execution_count": 85,
   "id": "57f6712d",
   "metadata": {},
   "outputs": [],
   "source": [
    "imgs = soup.find_all('img')\n",
    "key_link = \"https://encrypted-tbn0.gstatic.com/images?\"\n",
    "links = [img['src'] for img in imgs if (img.has_attr('src') and key_link in img['src'])]"
   ]
  },
  {
   "cell_type": "code",
   "execution_count": 88,
   "id": "c78279b0",
   "metadata": {},
   "outputs": [
    {
     "data": {
      "text/plain": [
       "696"
      ]
     },
     "execution_count": 88,
     "metadata": {},
     "output_type": "execute_result"
    }
   ],
   "source": [
    "len(links)"
   ]
  },
  {
   "cell_type": "code",
   "execution_count": 86,
   "id": "7f72fbfd",
   "metadata": {},
   "outputs": [
    {
     "data": {
      "text/plain": [
       "['https://encrypted-tbn0.gstatic.com/images?q=tbn:ANd9GcRlbh3k0oFSDx_k64j3PBwxRhzEVsgZdAAs7OUJwSjTqItI37eWIP9AHYxQ&s',\n",
       " 'https://encrypted-tbn0.gstatic.com/images?q=tbn:ANd9GcQhcfcnCCn_MEEYGrkFD-Mm8gDELaZgL4QipJT6UKC-mo8F121Ijf4oTa0K&s',\n",
       " 'https://encrypted-tbn0.gstatic.com/images?q=tbn:ANd9GcRRmqBHAYdHYjV04p3_0GbR-5idabXXu55cIv4X8rjgTcPVpO8kmnck70Ps&s',\n",
       " 'https://encrypted-tbn0.gstatic.com/images?q=tbn:ANd9GcQ0WGKJi_BgcDC-3vzknw3eFpFU6rDSfzctyoTP_axnCqrotPMWj18LYIAD&s',\n",
       " 'https://encrypted-tbn0.gstatic.com/images?q=tbn:ANd9GcSQiID16Am_jWxOVQHpLlM_aOMfXEXhF45e9VWVovtzbA8NSubmzym0&s=0',\n",
       " 'https://encrypted-tbn0.gstatic.com/images?q=tbn:ANd9GcQ1rH3_g2ON0kroG0YkMZFz1Sih0gCZ3xqLQq7zUJwR&s=0',\n",
       " 'https://encrypted-tbn0.gstatic.com/images?q=tbn:ANd9GcTBKOjz2XMzclVYkeEcpwSaM52ot94CB1o6tu4nyRLydfa7q-lAYokp&s=0',\n",
       " 'https://encrypted-tbn0.gstatic.com/images?q=tbn:ANd9GcTMAUZM2BurDEVfOwIVmQOeayAwJVNxUBIX0A&s',\n",
       " 'https://encrypted-tbn0.gstatic.com/images?q=tbn:ANd9GcQxlASFLTksfhdG44tOzX3YM6XtjF6s8F6DsA&s',\n",
       " 'https://encrypted-tbn0.gstatic.com/images?q=tbn:ANd9GcQ-Ugz9QONYsoTiYVxhxSudU_QpSJygdOZ9bw&s']"
      ]
     },
     "execution_count": 86,
     "metadata": {},
     "output_type": "execute_result"
    }
   ],
   "source": [
    "links[:10]"
   ]
  },
  {
   "cell_type": "code",
   "execution_count": 87,
   "id": "52eaaa0a",
   "metadata": {},
   "outputs": [],
   "source": [
    "with open(\"img.txt\", 'w') as f:\n",
    "    f.write(\"\\n\".join(links))"
   ]
  }
 ],
 "metadata": {
  "kernelspec": {
   "display_name": "c",
   "language": "python",
   "name": "python3"
  },
  "language_info": {
   "codemirror_mode": {
    "name": "ipython",
    "version": 3
   },
   "file_extension": ".py",
   "mimetype": "text/x-python",
   "name": "python",
   "nbconvert_exporter": "python",
   "pygments_lexer": "ipython3",
   "version": "3.12.11"
  }
 },
 "nbformat": 4,
 "nbformat_minor": 5
}
